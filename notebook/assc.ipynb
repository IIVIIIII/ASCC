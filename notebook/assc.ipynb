{
 "cells": [
  {
   "cell_type": "code",
   "execution_count": 1,
   "metadata": {},
   "outputs": [],
   "source": [
    "# import dependencies\n",
    "import pandas as pd\n",
    "import math\n"
   ]
  },
  {
   "cell_type": "code",
   "execution_count": 2,
   "metadata": {},
   "outputs": [],
   "source": [
    "# read csv on carbon emission data and convert to pandas dataframe\n",
    "carbon = pd.read_csv('../resources/data/carbon_by_country.csv')\n",
    "\n",
    "# select only emissions in gigatons of carbon (GtC) by USA since 1969\n",
    "carbon = carbon[['year', 'USA']].loc[carbon['year'] >= 1969,:]\n",
    "\n",
    "# rename 'USA' column to 'emissions(GtC)'\n",
    "carbon = carbon.rename(columns={'USA': 'emissions(GtC)'})\n",
    "\n",
    "# reset index\n",
    "carbon = carbon.reset_index(drop=True)\n"
   ]
  },
  {
   "cell_type": "code",
   "execution_count": 3,
   "metadata": {},
   "outputs": [],
   "source": [
    "# create funciton to calculate total accumulated carbon emissions(GtC)\n",
    "def total(x):\n",
    "    return carbon.loc[carbon['year'] < x,:]['emissions(GtC)'].sum()\n",
    "\n",
    "# create column with total accumulated carbon emissions for each year\n",
    "carbon['accumulated(GtC)'] = carbon['year'].apply(total)\n"
   ]
  },
  {
   "cell_type": "code",
   "execution_count": 4,
   "metadata": {},
   "outputs": [],
   "source": [
    "# create funciton to calculate scaled dft size\n",
    "def scale(x):\n",
    "    return (x-0)/(70730-0)*(524288-16)+16\n",
    "\n",
    "# create column with scaled dft size for each year\n",
    "carbon['dft_size'] = carbon['accumulated(GtC)'].apply(scale)\n"
   ]
  },
  {
   "cell_type": "code",
   "execution_count": 5,
   "metadata": {},
   "outputs": [],
   "source": [
    "# create funciton to calculate viable fft size\n",
    "def fft_size(x):\n",
    "    return 1 if x == 0 else int(2**math.floor(math.log2(x)))\n",
    "\n",
    "# create column with viable fft size for each year\n",
    "carbon['fft_size'] = carbon['dft_size'].apply(fft_size)\n"
   ]
  },
  {
   "cell_type": "code",
   "execution_count": 6,
   "metadata": {},
   "outputs": [],
   "source": [
    "# create funciton to calculate frequency resolution\n",
    "def freq_res(x):\n",
    "    return 44100/x\n",
    "\n",
    "# create column with frequency resoulution for each year\n",
    "carbon['freq_res(Hz)'] = carbon['fft_size'].apply(freq_res)\n"
   ]
  },
  {
   "cell_type": "code",
   "execution_count": 9,
   "metadata": {},
   "outputs": [],
   "source": [
    "# create funciton to calculate file names\n",
    "def file(x):\n",
    "    \n",
    "    # all unique fft sizes used\n",
    "    ffts = carbon['fft_size'].unique()\n",
    "    \n",
    "    # iterate through unique fft sizes\n",
    "    for i in range(0, len(ffts)):\n",
    "        # if the year's fft size matches the indexed fft size:\n",
    "        if x == ffts[i]:\n",
    "            # return the file name with the number as the index plus 1\n",
    "            return f'jimi{i+1}.mp3'\n",
    "\n",
    "# create column with file name for each year\n",
    "carbon['file'] = carbon['fft_size'].apply(file)\n"
   ]
  },
  {
   "cell_type": "code",
   "execution_count": null,
   "metadata": {},
   "outputs": [],
   "source": [
    "# create function to calculate starting times in milliseconds(ms) for each file\n",
    "def begin(x):\n",
    "    \n",
    "    # number of years represented by previous files\n",
    "    previous = 0\n",
    "    \n",
    "    # iterate through previous files\n",
    "    for i in range(0, int(x[4])):\n",
    "        # add the number of years represented by each previous file to previous\n",
    "        previous = previous + len(carbon.loc[carbon['file'] == f'jimi{i}.mp3',:])\n",
    "\n",
    "    # return start time as previous years multiplied by scaled length of a year in audio playback(ms)\n",
    "    return previous*4735\n",
    "\n",
    "# create column for starting times of each file\n",
    "carbon['begin(ms)'] = carbon['file'].apply(begin)\n"
   ]
  },
  {
   "cell_type": "code",
   "execution_count": null,
   "metadata": {},
   "outputs": [],
   "source": [
    "# create function to calculate ending times(ms) for each file\n",
    "def end(x):\n",
    "    \n",
    "    # last file ends at ending of manipulated audio\n",
    "    if x == 'jimi8.mp3':\n",
    "        return 241471\n",
    "    \n",
    "    # for all other files:\n",
    "    else:\n",
    "        # number of years represented by current file\n",
    "        years = len(carbon.loc[carbon[\"file\"] == x,:])\n",
    "        \n",
    "        # final year represented by a file is 10 seconds to allow crossfading into next year\n",
    "        final_year = 10000\n",
    "        \n",
    "        # other years multiplied by scaled length of a year in audio playback(ms)\n",
    "        other_years = (years-1)*4735\n",
    "        \n",
    "        # return end time as begining time plus scaled length of years represented by file\n",
    "        return begin(x) + final_year + other_years\n",
    "\n",
    "# create column for ending times of each file\n",
    "carbon['end(ms)'] = carbon['file'].apply(end)\n"
   ]
  },
  {
   "cell_type": "code",
   "execution_count": null,
   "metadata": {},
   "outputs": [],
   "source": [
    "# display full dataframe\n",
    "carbon\n"
   ]
  },
  {
   "cell_type": "code",
   "execution_count": null,
   "metadata": {
    "scrolled": true
   },
   "outputs": [],
   "source": [
    "\n",
    "# for x in carbon['file'].unique():\n",
    "#     years = len(carbon.loc[carbon[\"file\"] == x,:])\n",
    "    \n",
    "#     previous = 0\n",
    "    \n",
    "#     for i in range(0, int(x[4])):\n",
    "#         previous = previous + len(carbon.loc[carbon['file'] == f'jimi{i}.mp3',:])\n",
    "    \n",
    "#     begin = previous*4735\n",
    "    \n",
    "#     end = begin + (years-1)*4735 + 10000\n",
    "    \n",
    "#     print(f'jimi{i}.mp3 ({years}): {previous}, {begin}, {end}')\n",
    "    \n",
    "#     print(int(x[4]))\n"
   ]
  },
  {
   "cell_type": "code",
   "execution_count": null,
   "metadata": {},
   "outputs": [],
   "source": [
    "# # def begin(x, y):\n",
    "# #     return x\n",
    "    \n",
    "# # carbon['begin'] = carbon[['fft_size','year']].apply(begin)\n",
    "\n",
    "# # carbon.loc[carbon['file'] == 'jimi1.mp3', :]\n",
    "# carbon['file'].value_counts()\n",
    "\n",
    "# # for x in carbon['file'].unique():\n",
    "# #     len(carbon.loc[carbon['file'] == x,:])\n",
    "\n",
    "# for i in range(1, len(carbon['file'].unique())+1):\n",
    "#     years = len(carbon.loc[carbon[\"file\"] == f\"jimi{i}.mp3\",:])\n",
    "    \n",
    "#     previous = 0\n",
    "    \n",
    "    \n",
    "#     for j in range(0, i):\n",
    "#         previous = previous + len(carbon.loc[carbon['file'] == f'jimi{j}.mp3',:])\n",
    "    \n",
    "#     begin = previous*4735\n",
    "    \n",
    "#     end = begin + (years-1)*4735 + 10000\n",
    "    \n",
    "#     print(f'jimi{i}.mp3 ({years}): {previous}, {begin}, {end}')\n",
    "        \n",
    "    \n",
    "# #         print(len(carbon.loc[carbon['file'] == f'jimi{i}.mp3',:]))\n",
    "\n"
   ]
  },
  {
   "cell_type": "code",
   "execution_count": null,
   "metadata": {},
   "outputs": [],
   "source": [
    "# # create lists to hold fft sizes and corresponding file name\n",
    "# fft_size = []\n",
    "# file = []\n",
    "\n",
    "# # variables for base fft size and file name number to be multiplied or added to\n",
    "# fft = 8\n",
    "# jimi = 0\n",
    "\n",
    "# # determine fft size and corresponding file name from scaled dft size\n",
    "# for s in carbon['dft_scaled']:\n",
    "    \n",
    "#     # if scaled dft size is greater than or equal to next viable fft size:\n",
    "#     if s >= fft:\n",
    "#         # fft = next viable fft size\n",
    "#         fft = fft*2\n",
    "#         # file name number increases by 1\n",
    "#         jimi = jimi+1\n",
    "#         # add fft size and file name to respective lists\n",
    "#         fft_size.append(fft)\n",
    "#         file.append(f'jimi{jimi}.mp3')\n",
    "        \n",
    "#     else:\n",
    "#         # add unaltered fft size and file name to respective lists\n",
    "#         fft_size.append(fft)\n",
    "#         file.append(f'jimi{jimi}.mp3')\n",
    "\n",
    "# # create columns for fft sizes and file names\n",
    "# carbon['fft_size'] = fft_size\n",
    "# carbon['file'] = file\n",
    "\n",
    "# display dataframe\n",
    "# carbon\n"
   ]
  },
  {
   "cell_type": "code",
   "execution_count": null,
   "metadata": {},
   "outputs": [],
   "source": [
    "# # group years by file name and display corresponding fft size\n",
    "# files_group = carbon.groupby('files')\n",
    "\n",
    "# jimi_fft = files_group['fft_size'].unique()\n",
    "# jimi_res = files_group['freq_res'].unique()\n",
    "\n",
    "# jimis = pd.DataFrame({'fft_size': jimi_fft, 'freq_res': jimi_res})\n",
    "\n",
    "# jimis['fft_size'] = jimis['fft_size'].apply(lambda x: x[0])\n",
    "# jimis['freq_res'] = jimis['freq_res'].apply(lambda x: x[0])\n",
    "\n",
    "\n",
    "# jimis\n",
    "\n",
    "# # # sort from smallest to largest fft size\n",
    "# # files = files.sort_values('fft_size')\n",
    "\n",
    "# # # display dataframe\n",
    "# # files\n"
   ]
  },
  {
   "cell_type": "code",
   "execution_count": null,
   "metadata": {},
   "outputs": [],
   "source": [
    "# export dataframe as csv\n",
    "# carbon.to_csv('../resources/data/carbon.csv')\n"
   ]
  },
  {
   "cell_type": "code",
   "execution_count": null,
   "metadata": {},
   "outputs": [],
   "source": []
  }
 ],
 "metadata": {
  "anaconda-cloud": {},
  "celltoolbar": "Slideshow",
  "kernelspec": {
   "display_name": "Python 3",
   "language": "python",
   "name": "python3"
  },
  "language_info": {
   "codemirror_mode": {
    "name": "ipython",
    "version": 3
   },
   "file_extension": ".py",
   "mimetype": "text/x-python",
   "name": "python",
   "nbconvert_exporter": "python",
   "pygments_lexer": "ipython3",
   "version": "3.8.5"
  },
  "varInspector": {
   "cols": {
    "lenName": 16,
    "lenType": 16,
    "lenVar": 40
   },
   "kernels_config": {
    "python": {
     "delete_cmd_postfix": "",
     "delete_cmd_prefix": "del ",
     "library": "var_list.py",
     "varRefreshCmd": "print(var_dic_list())"
    },
    "r": {
     "delete_cmd_postfix": ") ",
     "delete_cmd_prefix": "rm(",
     "library": "var_list.r",
     "varRefreshCmd": "cat(var_dic_list()) "
    }
   },
   "types_to_exclude": [
    "module",
    "function",
    "builtin_function_or_method",
    "instance",
    "_Feature"
   ],
   "window_display": false
  }
 },
 "nbformat": 4,
 "nbformat_minor": 2
}
